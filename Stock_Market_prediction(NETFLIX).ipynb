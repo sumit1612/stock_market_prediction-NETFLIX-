{
  "nbformat": 4,
  "nbformat_minor": 0,
  "metadata": {
    "colab": {
      "name": "Stock Market prediction(NETFLIX).ipynb",
      "provenance": []
    },
    "kernelspec": {
      "name": "python3",
      "display_name": "Python 3"
    },
    "language_info": {
      "name": "python"
    }
  },
  "cells": [
    {
      "cell_type": "code",
      "metadata": {
        "id": "1tduZuYp5_lO"
      },
      "source": [
        "import pandas_datareader as pdr \n",
        "import pandas as pd\n",
        "import matplotlib.pyplot as plt\n",
        "import numpy as np \n",
        "from sklearn.preprocessing import MinMaxScaler\n",
        "import tensorflow as tf\n",
        "import math\n",
        "from sklearn.metrics import mean_squared_error"
      ],
      "execution_count": 1,
      "outputs": []
    },
    {
      "cell_type": "code",
      "metadata": {
        "id": "PvU_IaiO6Utc"
      },
      "source": [
        "key = 'ad886a8cae248c00a0603a57a777ac027b11c3a3'\n",
        "df = pdr.get_data_tiingo('NFLX', api_key = key)\n",
        "df.to_csv('NFLX.csv')\n"
      ],
      "execution_count": 2,
      "outputs": []
    },
    {
      "cell_type": "code",
      "metadata": {
        "colab": {
          "base_uri": "https://localhost:8080/",
          "height": 202
        },
        "id": "0OTROLV6-2Zb",
        "outputId": "7149b7b1-9ef9-46ef-845f-5465e086916d"
      },
      "source": [
        "df = pd.read_csv('NFLX.csv')\n",
        "df.head()"
      ],
      "execution_count": 3,
      "outputs": [
        {
          "output_type": "execute_result",
          "data": {
            "text/html": [
              "<div>\n",
              "<style scoped>\n",
              "    .dataframe tbody tr th:only-of-type {\n",
              "        vertical-align: middle;\n",
              "    }\n",
              "\n",
              "    .dataframe tbody tr th {\n",
              "        vertical-align: top;\n",
              "    }\n",
              "\n",
              "    .dataframe thead th {\n",
              "        text-align: right;\n",
              "    }\n",
              "</style>\n",
              "<table border=\"1\" class=\"dataframe\">\n",
              "  <thead>\n",
              "    <tr style=\"text-align: right;\">\n",
              "      <th></th>\n",
              "      <th>symbol</th>\n",
              "      <th>date</th>\n",
              "      <th>close</th>\n",
              "      <th>high</th>\n",
              "      <th>low</th>\n",
              "      <th>open</th>\n",
              "      <th>volume</th>\n",
              "      <th>adjClose</th>\n",
              "      <th>adjHigh</th>\n",
              "      <th>adjLow</th>\n",
              "      <th>adjOpen</th>\n",
              "      <th>adjVolume</th>\n",
              "      <th>divCash</th>\n",
              "      <th>splitFactor</th>\n",
              "    </tr>\n",
              "  </thead>\n",
              "  <tbody>\n",
              "    <tr>\n",
              "      <th>0</th>\n",
              "      <td>NFLX</td>\n",
              "      <td>2016-07-20 00:00:00+00:00</td>\n",
              "      <td>87.91</td>\n",
              "      <td>88.49</td>\n",
              "      <td>85.82</td>\n",
              "      <td>86.67</td>\n",
              "      <td>23525141</td>\n",
              "      <td>87.91</td>\n",
              "      <td>88.49</td>\n",
              "      <td>85.82</td>\n",
              "      <td>86.67</td>\n",
              "      <td>23525141</td>\n",
              "      <td>0.0</td>\n",
              "      <td>1.0</td>\n",
              "    </tr>\n",
              "    <tr>\n",
              "      <th>1</th>\n",
              "      <td>NFLX</td>\n",
              "      <td>2016-07-21 00:00:00+00:00</td>\n",
              "      <td>85.99</td>\n",
              "      <td>88.38</td>\n",
              "      <td>85.21</td>\n",
              "      <td>88.30</td>\n",
              "      <td>16083996</td>\n",
              "      <td>85.99</td>\n",
              "      <td>88.38</td>\n",
              "      <td>85.21</td>\n",
              "      <td>88.30</td>\n",
              "      <td>16083996</td>\n",
              "      <td>0.0</td>\n",
              "      <td>1.0</td>\n",
              "    </tr>\n",
              "    <tr>\n",
              "      <th>2</th>\n",
              "      <td>NFLX</td>\n",
              "      <td>2016-07-22 00:00:00+00:00</td>\n",
              "      <td>85.89</td>\n",
              "      <td>86.50</td>\n",
              "      <td>85.11</td>\n",
              "      <td>86.48</td>\n",
              "      <td>11363917</td>\n",
              "      <td>85.89</td>\n",
              "      <td>86.50</td>\n",
              "      <td>85.11</td>\n",
              "      <td>86.48</td>\n",
              "      <td>11363917</td>\n",
              "      <td>0.0</td>\n",
              "      <td>1.0</td>\n",
              "    </tr>\n",
              "    <tr>\n",
              "      <th>3</th>\n",
              "      <td>NFLX</td>\n",
              "      <td>2016-07-25 00:00:00+00:00</td>\n",
              "      <td>87.66</td>\n",
              "      <td>87.87</td>\n",
              "      <td>85.01</td>\n",
              "      <td>85.73</td>\n",
              "      <td>14135027</td>\n",
              "      <td>87.66</td>\n",
              "      <td>87.87</td>\n",
              "      <td>85.01</td>\n",
              "      <td>85.73</td>\n",
              "      <td>14135027</td>\n",
              "      <td>0.0</td>\n",
              "      <td>1.0</td>\n",
              "    </tr>\n",
              "    <tr>\n",
              "      <th>4</th>\n",
              "      <td>NFLX</td>\n",
              "      <td>2016-07-26 00:00:00+00:00</td>\n",
              "      <td>91.41</td>\n",
              "      <td>93.10</td>\n",
              "      <td>90.90</td>\n",
              "      <td>91.03</td>\n",
              "      <td>19577623</td>\n",
              "      <td>91.41</td>\n",
              "      <td>93.10</td>\n",
              "      <td>90.90</td>\n",
              "      <td>91.03</td>\n",
              "      <td>19577623</td>\n",
              "      <td>0.0</td>\n",
              "      <td>1.0</td>\n",
              "    </tr>\n",
              "  </tbody>\n",
              "</table>\n",
              "</div>"
            ],
            "text/plain": [
              "  symbol                       date  close  ...  adjVolume  divCash  splitFactor\n",
              "0   NFLX  2016-07-20 00:00:00+00:00  87.91  ...   23525141      0.0          1.0\n",
              "1   NFLX  2016-07-21 00:00:00+00:00  85.99  ...   16083996      0.0          1.0\n",
              "2   NFLX  2016-07-22 00:00:00+00:00  85.89  ...   11363917      0.0          1.0\n",
              "3   NFLX  2016-07-25 00:00:00+00:00  87.66  ...   14135027      0.0          1.0\n",
              "4   NFLX  2016-07-26 00:00:00+00:00  91.41  ...   19577623      0.0          1.0\n",
              "\n",
              "[5 rows x 14 columns]"
            ]
          },
          "metadata": {
            "tags": []
          },
          "execution_count": 3
        }
      ]
    },
    {
      "cell_type": "code",
      "metadata": {
        "colab": {
          "base_uri": "https://localhost:8080/",
          "height": 202
        },
        "id": "XX47AAICBtKD",
        "outputId": "cbfd36a2-4708-4e29-9cb8-bcd9d1097884"
      },
      "source": [
        "df1 = df.reset_index()['close']\n",
        "df.tail()"
      ],
      "execution_count": 4,
      "outputs": [
        {
          "output_type": "execute_result",
          "data": {
            "text/html": [
              "<div>\n",
              "<style scoped>\n",
              "    .dataframe tbody tr th:only-of-type {\n",
              "        vertical-align: middle;\n",
              "    }\n",
              "\n",
              "    .dataframe tbody tr th {\n",
              "        vertical-align: top;\n",
              "    }\n",
              "\n",
              "    .dataframe thead th {\n",
              "        text-align: right;\n",
              "    }\n",
              "</style>\n",
              "<table border=\"1\" class=\"dataframe\">\n",
              "  <thead>\n",
              "    <tr style=\"text-align: right;\">\n",
              "      <th></th>\n",
              "      <th>symbol</th>\n",
              "      <th>date</th>\n",
              "      <th>close</th>\n",
              "      <th>high</th>\n",
              "      <th>low</th>\n",
              "      <th>open</th>\n",
              "      <th>volume</th>\n",
              "      <th>adjClose</th>\n",
              "      <th>adjHigh</th>\n",
              "      <th>adjLow</th>\n",
              "      <th>adjOpen</th>\n",
              "      <th>adjVolume</th>\n",
              "      <th>divCash</th>\n",
              "      <th>splitFactor</th>\n",
              "    </tr>\n",
              "  </thead>\n",
              "  <tbody>\n",
              "    <tr>\n",
              "      <th>1252</th>\n",
              "      <td>NFLX</td>\n",
              "      <td>2021-07-12 00:00:00+00:00</td>\n",
              "      <td>537.31</td>\n",
              "      <td>540.6497</td>\n",
              "      <td>532.92</td>\n",
              "      <td>540.30</td>\n",
              "      <td>1780738</td>\n",
              "      <td>537.31</td>\n",
              "      <td>540.6497</td>\n",
              "      <td>532.92</td>\n",
              "      <td>540.30</td>\n",
              "      <td>1780738</td>\n",
              "      <td>0.0</td>\n",
              "      <td>1.0</td>\n",
              "    </tr>\n",
              "    <tr>\n",
              "      <th>1253</th>\n",
              "      <td>NFLX</td>\n",
              "      <td>2021-07-13 00:00:00+00:00</td>\n",
              "      <td>540.68</td>\n",
              "      <td>545.3300</td>\n",
              "      <td>535.76</td>\n",
              "      <td>535.76</td>\n",
              "      <td>2751593</td>\n",
              "      <td>540.68</td>\n",
              "      <td>545.3300</td>\n",
              "      <td>535.76</td>\n",
              "      <td>535.76</td>\n",
              "      <td>2751593</td>\n",
              "      <td>0.0</td>\n",
              "      <td>1.0</td>\n",
              "    </tr>\n",
              "    <tr>\n",
              "      <th>1254</th>\n",
              "      <td>NFLX</td>\n",
              "      <td>2021-07-14 00:00:00+00:00</td>\n",
              "      <td>547.95</td>\n",
              "      <td>554.1000</td>\n",
              "      <td>541.01</td>\n",
              "      <td>541.01</td>\n",
              "      <td>4659535</td>\n",
              "      <td>547.95</td>\n",
              "      <td>554.1000</td>\n",
              "      <td>541.01</td>\n",
              "      <td>541.01</td>\n",
              "      <td>4659535</td>\n",
              "      <td>0.0</td>\n",
              "      <td>1.0</td>\n",
              "    </tr>\n",
              "    <tr>\n",
              "      <th>1255</th>\n",
              "      <td>NFLX</td>\n",
              "      <td>2021-07-15 00:00:00+00:00</td>\n",
              "      <td>542.95</td>\n",
              "      <td>557.5399</td>\n",
              "      <td>538.20</td>\n",
              "      <td>553.97</td>\n",
              "      <td>5713873</td>\n",
              "      <td>542.95</td>\n",
              "      <td>557.5399</td>\n",
              "      <td>538.20</td>\n",
              "      <td>553.97</td>\n",
              "      <td>5713873</td>\n",
              "      <td>0.0</td>\n",
              "      <td>1.0</td>\n",
              "    </tr>\n",
              "    <tr>\n",
              "      <th>1256</th>\n",
              "      <td>NFLX</td>\n",
              "      <td>2021-07-16 00:00:00+00:00</td>\n",
              "      <td>530.31</td>\n",
              "      <td>544.0600</td>\n",
              "      <td>527.05</td>\n",
              "      <td>541.81</td>\n",
              "      <td>3442101</td>\n",
              "      <td>530.31</td>\n",
              "      <td>544.0600</td>\n",
              "      <td>527.05</td>\n",
              "      <td>541.81</td>\n",
              "      <td>3442101</td>\n",
              "      <td>0.0</td>\n",
              "      <td>1.0</td>\n",
              "    </tr>\n",
              "  </tbody>\n",
              "</table>\n",
              "</div>"
            ],
            "text/plain": [
              "     symbol                       date   close  ...  adjVolume  divCash  splitFactor\n",
              "1252   NFLX  2021-07-12 00:00:00+00:00  537.31  ...    1780738      0.0          1.0\n",
              "1253   NFLX  2021-07-13 00:00:00+00:00  540.68  ...    2751593      0.0          1.0\n",
              "1254   NFLX  2021-07-14 00:00:00+00:00  547.95  ...    4659535      0.0          1.0\n",
              "1255   NFLX  2021-07-15 00:00:00+00:00  542.95  ...    5713873      0.0          1.0\n",
              "1256   NFLX  2021-07-16 00:00:00+00:00  530.31  ...    3442101      0.0          1.0\n",
              "\n",
              "[5 rows x 14 columns]"
            ]
          },
          "metadata": {
            "tags": []
          },
          "execution_count": 4
        }
      ]
    },
    {
      "cell_type": "code",
      "metadata": {
        "colab": {
          "base_uri": "https://localhost:8080/",
          "height": 282
        },
        "id": "qOd_GDEpCAuf",
        "outputId": "0f57259d-d74c-4b3e-e2dc-9aadf17b1c0c"
      },
      "source": [
        "plt.plot(df1)"
      ],
      "execution_count": 5,
      "outputs": [
        {
          "output_type": "execute_result",
          "data": {
            "text/plain": [
              "[<matplotlib.lines.Line2D at 0x7fd0b79c5ed0>]"
            ]
          },
          "metadata": {
            "tags": []
          },
          "execution_count": 5
        },
        {
          "output_type": "display_data",
          "data": {
            "image/png": "[encoded data removed]",
            "text/plain": [
              "<Figure size 432x288 with 1 Axes>"
            ]
          },
          "metadata": {
            "tags": [],
            "needs_background": "light"
          }
        }
      ]
    },
    {
      "cell_type": "code",
      "metadata": {
        "id": "X0PaNmo8Cale"
      },
      "source": [
        "scaler = MinMaxScaler(feature_range=(0,1))\n",
        "df1 = scaler.fit_transform(np.array(df1).reshape(-1,1))"
      ],
      "execution_count": 6,
      "outputs": []
    },
    {
      "cell_type": "code",
      "metadata": {
        "id": "OFFh2iNDDf86"
      },
      "source": [
        "training_size = int(len(df1)*0.65)\n",
        "test_size = len(df1)-training_size\n",
        "train_data,test_data = df1[0:training_size,:],df1[training_size:len(df1),:1]"
      ],
      "execution_count": 7,
      "outputs": []
    },
    {
      "cell_type": "code",
      "metadata": {
        "id": "FBxe-ClzPIvj"
      },
      "source": [
        "# convert an array of values into a dataset matrix\n",
        "def create_dataset(dataset, time_step=1):\n",
        "\tdataX, dataY = [], []\n",
        "\tfor i in range(len(dataset)-time_step-1):\n",
        "\t\ta = dataset[i:(i+time_step), 0]   ###i=0, 0,1,2,3-----99   100 \n",
        "\t\tdataX.append(a)\n",
        "\t\tdataY.append(dataset[i + time_step, 0])\n",
        "\treturn np.array(dataX), np.array(dataY)\n"
      ],
      "execution_count": 8,
      "outputs": []
    },
    {
      "cell_type": "code",
      "metadata": {
        "id": "Yi1czCkqROP7"
      },
      "source": [
        "time_step = 100\n",
        "X_train, y_train = create_dataset(train_data, time_step)\n",
        "X_test, ytest = create_dataset(test_data, time_step)"
      ],
      "execution_count": 9,
      "outputs": []
    },
    {
      "cell_type": "code",
      "metadata": {
        "id": "RKwb7EEgRioT"
      },
      "source": [
        "X_train =X_train.reshape(X_train.shape[0],X_train.shape[1] , 1)\n",
        "X_test = X_test.reshape(X_test.shape[0],X_test.shape[1] , 1)"
      ],
      "execution_count": 10,
      "outputs": []
    },
    {
      "cell_type": "code",
      "metadata": {
        "id": "U3ySprtlR8MV"
      },
      "source": [
        "from tensorflow.keras.models import Sequential\n",
        "from tensorflow.keras.layers import Dense\n",
        "from tensorflow.keras.layers import LSTM"
      ],
      "execution_count": 11,
      "outputs": []
    },
    {
      "cell_type": "code",
      "metadata": {
        "id": "gA3a1Uc5R_oJ"
      },
      "source": [
        "model=Sequential()\n",
        "model.add(LSTM(50,return_sequences=True,input_shape=(100,1)))\n",
        "model.add(LSTM(50,return_sequences=True))\n",
        "model.add(LSTM(50))\n",
        "model.add(Dense(1))\n",
        "model.compile(loss='mean_squared_error',optimizer='adam')"
      ],
      "execution_count": 12,
      "outputs": []
    },
    {
      "cell_type": "code",
      "metadata": {
        "colab": {
          "base_uri": "https://localhost:8080/"
        },
        "id": "w6cxE81CSEa-",
        "outputId": "09b9716e-1e51-471c-d838-eac54a0fa9eb"
      },
      "source": [
        "model.summary()"
      ],
      "execution_count": 13,
      "outputs": [
        {
          "output_type": "stream",
          "text": [
            "Model: \"sequential\"\n",
            "_________________________________________________________________\n",
            "Layer (type)                 Output Shape              Param #   \n",
            "=================================================================\n",
            "lstm (LSTM)                  (None, 100, 50)           10400     \n",
            "_________________________________________________________________\n",
            "lstm_1 (LSTM)                (None, 100, 50)           20200     \n",
            "_________________________________________________________________\n",
            "lstm_2 (LSTM)                (None, 50)                20200     \n",
            "_________________________________________________________________\n",
            "dense (Dense)                (None, 1)                 51        \n",
            "=================================================================\n",
            "Total params: 50,851\n",
            "Trainable params: 50,851\n",
            "Non-trainable params: 0\n",
            "_________________________________________________________________\n"
          ],
          "name": "stdout"
        }
      ]
    },
    {
      "cell_type": "code",
      "metadata": {
        "colab": {
          "base_uri": "https://localhost:8080/"
        },
        "id": "8GOcPzVcSJCE",
        "outputId": "8a96c13f-bc29-4620-beaa-54c7adfc7ba2"
      },
      "source": [
        "model.fit(X_train,y_train,validation_data=(X_test,ytest),epochs=100,batch_size=64,verbose=1)"
      ],
      "execution_count": 14,
      "outputs": [
        {
          "output_type": "stream",
          "text": [
            "Epoch 1/100\n",
            "12/12 [==============================] - 9s 295ms/step - loss: 0.0425 - val_loss: 0.0811\n",
            "Epoch 2/100\n",
            "12/12 [==============================] - 2s 187ms/step - loss: 0.0097 - val_loss: 0.0050\n",
            "Epoch 3/100\n",
            "12/12 [==============================] - 2s 187ms/step - loss: 0.0044 - val_loss: 0.0197\n",
            "Epoch 4/100\n",
            "12/12 [==============================] - 2s 189ms/step - loss: 0.0024 - val_loss: 0.0121\n",
            "Epoch 5/100\n",
            "12/12 [==============================] - 2s 188ms/step - loss: 0.0019 - val_loss: 0.0054\n",
            "Epoch 6/100\n",
            "12/12 [==============================] - 2s 189ms/step - loss: 0.0018 - val_loss: 0.0048\n",
            "Epoch 7/100\n",
            "12/12 [==============================] - 2s 184ms/step - loss: 0.0017 - val_loss: 0.0059\n",
            "Epoch 8/100\n",
            "12/12 [==============================] - 2s 189ms/step - loss: 0.0016 - val_loss: 0.0058\n",
            "Epoch 9/100\n",
            "12/12 [==============================] - 2s 187ms/step - loss: 0.0016 - val_loss: 0.0044\n",
            "Epoch 10/100\n",
            "12/12 [==============================] - 2s 187ms/step - loss: 0.0015 - val_loss: 0.0053\n",
            "Epoch 11/100\n",
            "12/12 [==============================] - 2s 190ms/step - loss: 0.0015 - val_loss: 0.0052\n",
            "Epoch 12/100\n",
            "12/12 [==============================] - 2s 187ms/step - loss: 0.0015 - val_loss: 0.0042\n",
            "Epoch 13/100\n",
            "12/12 [==============================] - 2s 186ms/step - loss: 0.0015 - val_loss: 0.0032\n",
            "Epoch 14/100\n",
            "12/12 [==============================] - 2s 189ms/step - loss: 0.0015 - val_loss: 0.0040\n",
            "Epoch 15/100\n",
            "12/12 [==============================] - 2s 188ms/step - loss: 0.0014 - val_loss: 0.0044\n",
            "Epoch 16/100\n",
            "12/12 [==============================] - 2s 188ms/step - loss: 0.0014 - val_loss: 0.0055\n",
            "Epoch 17/100\n",
            "12/12 [==============================] - 2s 187ms/step - loss: 0.0013 - val_loss: 0.0070\n",
            "Epoch 18/100\n",
            "12/12 [==============================] - 2s 188ms/step - loss: 0.0012 - val_loss: 0.0041\n",
            "Epoch 19/100\n",
            "12/12 [==============================] - 2s 191ms/step - loss: 0.0012 - val_loss: 0.0035\n",
            "Epoch 20/100\n",
            "12/12 [==============================] - 2s 189ms/step - loss: 0.0012 - val_loss: 0.0065\n",
            "Epoch 21/100\n",
            "12/12 [==============================] - 2s 189ms/step - loss: 0.0011 - val_loss: 0.0073\n",
            "Epoch 22/100\n",
            "12/12 [==============================] - 2s 186ms/step - loss: 0.0011 - val_loss: 0.0055\n",
            "Epoch 23/100\n",
            "12/12 [==============================] - 2s 189ms/step - loss: 0.0010 - val_loss: 0.0088\n",
            "Epoch 24/100\n",
            "12/12 [==============================] - 2s 188ms/step - loss: 0.0012 - val_loss: 0.0069\n",
            "Epoch 25/100\n",
            "12/12 [==============================] - 2s 187ms/step - loss: 0.0010 - val_loss: 0.0054\n",
            "Epoch 26/100\n",
            "12/12 [==============================] - 2s 186ms/step - loss: 0.0010 - val_loss: 0.0066\n",
            "Epoch 27/100\n",
            "12/12 [==============================] - 2s 187ms/step - loss: 9.9939e-04 - val_loss: 0.0087\n",
            "Epoch 28/100\n",
            "12/12 [==============================] - 2s 188ms/step - loss: 9.8501e-04 - val_loss: 0.0103\n",
            "Epoch 29/100\n",
            "12/12 [==============================] - 2s 188ms/step - loss: 0.0010 - val_loss: 0.0049\n",
            "Epoch 30/100\n",
            "12/12 [==============================] - 2s 187ms/step - loss: 0.0013 - val_loss: 0.0118\n",
            "Epoch 31/100\n",
            "12/12 [==============================] - 2s 188ms/step - loss: 0.0010 - val_loss: 0.0104\n",
            "Epoch 32/100\n",
            "12/12 [==============================] - 2s 187ms/step - loss: 9.8412e-04 - val_loss: 0.0118\n",
            "Epoch 33/100\n",
            "12/12 [==============================] - 2s 189ms/step - loss: 0.0010 - val_loss: 0.0081\n",
            "Epoch 34/100\n",
            "12/12 [==============================] - 2s 186ms/step - loss: 9.9369e-04 - val_loss: 0.0127\n",
            "Epoch 35/100\n",
            "12/12 [==============================] - 2s 188ms/step - loss: 0.0010 - val_loss: 0.0044\n",
            "Epoch 36/100\n",
            "12/12 [==============================] - 2s 192ms/step - loss: 0.0012 - val_loss: 0.0112\n",
            "Epoch 37/100\n",
            "12/12 [==============================] - 2s 189ms/step - loss: 0.0011 - val_loss: 0.0057\n",
            "Epoch 38/100\n",
            "12/12 [==============================] - 2s 197ms/step - loss: 0.0011 - val_loss: 0.0095\n",
            "Epoch 39/100\n",
            "12/12 [==============================] - 2s 196ms/step - loss: 0.0011 - val_loss: 0.0133\n",
            "Epoch 40/100\n",
            "12/12 [==============================] - 2s 192ms/step - loss: 0.0010 - val_loss: 0.0070\n",
            "Epoch 41/100\n",
            "12/12 [==============================] - 2s 192ms/step - loss: 9.5495e-04 - val_loss: 0.0143\n",
            "Epoch 42/100\n",
            "12/12 [==============================] - 2s 193ms/step - loss: 9.8514e-04 - val_loss: 0.0100\n",
            "Epoch 43/100\n",
            "12/12 [==============================] - 2s 192ms/step - loss: 9.3019e-04 - val_loss: 0.0048\n",
            "Epoch 44/100\n",
            "12/12 [==============================] - 2s 194ms/step - loss: 9.4368e-04 - val_loss: 0.0132\n",
            "Epoch 45/100\n",
            "12/12 [==============================] - 2s 193ms/step - loss: 0.0012 - val_loss: 0.0107\n",
            "Epoch 46/100\n",
            "12/12 [==============================] - 2s 192ms/step - loss: 9.9486e-04 - val_loss: 0.0054\n",
            "Epoch 47/100\n",
            "12/12 [==============================] - 2s 190ms/step - loss: 9.0345e-04 - val_loss: 0.0044\n",
            "Epoch 48/100\n",
            "12/12 [==============================] - 2s 190ms/step - loss: 9.1975e-04 - val_loss: 0.0086\n",
            "Epoch 49/100\n",
            "12/12 [==============================] - 2s 189ms/step - loss: 8.7920e-04 - val_loss: 0.0061\n",
            "Epoch 50/100\n",
            "12/12 [==============================] - 2s 188ms/step - loss: 8.9480e-04 - val_loss: 0.0078\n",
            "Epoch 51/100\n",
            "12/12 [==============================] - 2s 197ms/step - loss: 9.1733e-04 - val_loss: 0.0110\n",
            "Epoch 52/100\n",
            "12/12 [==============================] - 2s 191ms/step - loss: 8.8902e-04 - val_loss: 0.0057\n",
            "Epoch 53/100\n",
            "12/12 [==============================] - 2s 190ms/step - loss: 9.0484e-04 - val_loss: 0.0074\n",
            "Epoch 54/100\n",
            "12/12 [==============================] - 2s 193ms/step - loss: 8.2885e-04 - val_loss: 0.0098\n",
            "Epoch 55/100\n",
            "12/12 [==============================] - 2s 192ms/step - loss: 8.4491e-04 - val_loss: 0.0078\n",
            "Epoch 56/100\n",
            "12/12 [==============================] - 2s 191ms/step - loss: 8.2051e-04 - val_loss: 0.0070\n",
            "Epoch 57/100\n",
            "12/12 [==============================] - 2s 187ms/step - loss: 8.3198e-04 - val_loss: 0.0088\n",
            "Epoch 58/100\n",
            "12/12 [==============================] - 2s 189ms/step - loss: 8.1603e-04 - val_loss: 0.0088\n",
            "Epoch 59/100\n",
            "12/12 [==============================] - 2s 190ms/step - loss: 8.2670e-04 - val_loss: 0.0072\n",
            "Epoch 60/100\n",
            "12/12 [==============================] - 2s 187ms/step - loss: 8.0760e-04 - val_loss: 0.0046\n",
            "Epoch 61/100\n",
            "12/12 [==============================] - 2s 192ms/step - loss: 8.1154e-04 - val_loss: 0.0104\n",
            "Epoch 62/100\n",
            "12/12 [==============================] - 2s 193ms/step - loss: 8.7088e-04 - val_loss: 0.0067\n",
            "Epoch 63/100\n",
            "12/12 [==============================] - 2s 193ms/step - loss: 8.0855e-04 - val_loss: 0.0079\n",
            "Epoch 64/100\n",
            "12/12 [==============================] - 2s 196ms/step - loss: 8.1110e-04 - val_loss: 0.0035\n",
            "Epoch 65/100\n",
            "12/12 [==============================] - 2s 191ms/step - loss: 8.7086e-04 - val_loss: 0.0071\n",
            "Epoch 66/100\n",
            "12/12 [==============================] - 2s 196ms/step - loss: 7.5468e-04 - val_loss: 0.0056\n",
            "Epoch 67/100\n",
            "12/12 [==============================] - 2s 188ms/step - loss: 7.8224e-04 - val_loss: 0.0084\n",
            "Epoch 68/100\n",
            "12/12 [==============================] - 2s 189ms/step - loss: 7.6572e-04 - val_loss: 0.0075\n",
            "Epoch 69/100\n",
            "12/12 [==============================] - 2s 187ms/step - loss: 7.7702e-04 - val_loss: 0.0055\n",
            "Epoch 70/100\n",
            "12/12 [==============================] - 2s 192ms/step - loss: 7.7668e-04 - val_loss: 0.0068\n",
            "Epoch 71/100\n",
            "12/12 [==============================] - 2s 189ms/step - loss: 8.0406e-04 - val_loss: 0.0087\n",
            "Epoch 72/100\n",
            "12/12 [==============================] - 2s 192ms/step - loss: 7.6853e-04 - val_loss: 0.0057\n",
            "Epoch 73/100\n",
            "12/12 [==============================] - 2s 190ms/step - loss: 7.0721e-04 - val_loss: 0.0037\n",
            "Epoch 74/100\n",
            "12/12 [==============================] - 2s 190ms/step - loss: 7.4209e-04 - val_loss: 0.0051\n",
            "Epoch 75/100\n",
            "12/12 [==============================] - 2s 191ms/step - loss: 7.1906e-04 - val_loss: 0.0091\n",
            "Epoch 76/100\n",
            "12/12 [==============================] - 2s 189ms/step - loss: 7.5409e-04 - val_loss: 0.0022\n",
            "Epoch 77/100\n",
            "12/12 [==============================] - 2s 189ms/step - loss: 8.4961e-04 - val_loss: 0.0094\n",
            "Epoch 78/100\n",
            "12/12 [==============================] - 2s 190ms/step - loss: 7.1980e-04 - val_loss: 0.0031\n",
            "Epoch 79/100\n",
            "12/12 [==============================] - 2s 190ms/step - loss: 7.1598e-04 - val_loss: 0.0062\n",
            "Epoch 80/100\n",
            "12/12 [==============================] - 2s 189ms/step - loss: 6.5567e-04 - val_loss: 0.0043\n",
            "Epoch 81/100\n",
            "12/12 [==============================] - 2s 191ms/step - loss: 7.0040e-04 - val_loss: 0.0080\n",
            "Epoch 82/100\n",
            "12/12 [==============================] - 2s 191ms/step - loss: 6.9944e-04 - val_loss: 0.0053\n",
            "Epoch 83/100\n",
            "12/12 [==============================] - 2s 190ms/step - loss: 6.5623e-04 - val_loss: 0.0035\n",
            "Epoch 84/100\n",
            "12/12 [==============================] - 2s 193ms/step - loss: 6.8758e-04 - val_loss: 0.0039\n",
            "Epoch 85/100\n",
            "12/12 [==============================] - 2s 190ms/step - loss: 8.1430e-04 - val_loss: 0.0079\n",
            "Epoch 86/100\n",
            "12/12 [==============================] - 2s 190ms/step - loss: 6.3572e-04 - val_loss: 0.0054\n",
            "Epoch 87/100\n",
            "12/12 [==============================] - 2s 194ms/step - loss: 6.1532e-04 - val_loss: 0.0032\n",
            "Epoch 88/100\n",
            "12/12 [==============================] - 2s 194ms/step - loss: 6.8845e-04 - val_loss: 0.0041\n",
            "Epoch 89/100\n",
            "12/12 [==============================] - 2s 193ms/step - loss: 6.3035e-04 - val_loss: 0.0055\n",
            "Epoch 90/100\n",
            "12/12 [==============================] - 2s 196ms/step - loss: 5.8095e-04 - val_loss: 0.0048\n",
            "Epoch 91/100\n",
            "12/12 [==============================] - 2s 190ms/step - loss: 5.6401e-04 - val_loss: 0.0026\n",
            "Epoch 92/100\n",
            "12/12 [==============================] - 2s 192ms/step - loss: 5.9140e-04 - val_loss: 0.0016\n",
            "Epoch 93/100\n",
            "12/12 [==============================] - 2s 191ms/step - loss: 6.9887e-04 - val_loss: 0.0060\n",
            "Epoch 94/100\n",
            "12/12 [==============================] - 2s 193ms/step - loss: 5.7573e-04 - val_loss: 0.0047\n",
            "Epoch 95/100\n",
            "12/12 [==============================] - 2s 191ms/step - loss: 5.6466e-04 - val_loss: 0.0040\n",
            "Epoch 96/100\n",
            "12/12 [==============================] - 2s 196ms/step - loss: 5.2650e-04 - val_loss: 0.0050\n",
            "Epoch 97/100\n",
            "12/12 [==============================] - 2s 190ms/step - loss: 6.3056e-04 - val_loss: 0.0015\n",
            "Epoch 98/100\n",
            "12/12 [==============================] - 2s 193ms/step - loss: 5.9702e-04 - val_loss: 0.0039\n",
            "Epoch 99/100\n",
            "12/12 [==============================] - 2s 194ms/step - loss: 5.1244e-04 - val_loss: 0.0036\n",
            "Epoch 100/100\n",
            "12/12 [==============================] - 2s 189ms/step - loss: 4.5442e-04 - val_loss: 0.0029\n"
          ],
          "name": "stdout"
        },
        {
          "output_type": "execute_result",
          "data": {
            "text/plain": [
              "<tensorflow.python.keras.callbacks.History at 0x7fd06115e210>"
            ]
          },
          "metadata": {
            "tags": []
          },
          "execution_count": 14
        }
      ]
    },
    {
      "cell_type": "code",
      "metadata": {
        "id": "vsActmRySRMW"
      },
      "source": [
        "train_predict=model.predict(X_train)\n",
        "test_predict=model.predict(X_test)"
      ],
      "execution_count": 15,
      "outputs": []
    },
    {
      "cell_type": "code",
      "metadata": {
        "colab": {
          "base_uri": "https://localhost:8080/"
        },
        "id": "9itc5DuDTI59",
        "outputId": "d5c4769b-24bd-4cfb-89a4-e56ff4c883a6"
      },
      "source": [
        "train_predict=scaler.inverse_transform(train_predict)\n",
        "test_predict=scaler.inverse_transform(test_predict)\n",
        "math.sqrt(mean_squared_error(y_train,train_predict))"
      ],
      "execution_count": 16,
      "outputs": [
        {
          "output_type": "execute_result",
          "data": {
            "text/plain": [
              "279.8907988544223"
            ]
          },
          "metadata": {
            "tags": []
          },
          "execution_count": 16
        }
      ]
    },
    {
      "cell_type": "code",
      "metadata": {
        "colab": {
          "base_uri": "https://localhost:8080/"
        },
        "id": "9Y5EJGroTML7",
        "outputId": "e3e9486c-8c1a-4653-e2ba-94d1311deaeb"
      },
      "source": [
        "math.sqrt(mean_squared_error(ytest,test_predict))"
      ],
      "execution_count": 17,
      "outputs": [
        {
          "output_type": "execute_result",
          "data": {
            "text/plain": [
              "469.17507621634354"
            ]
          },
          "metadata": {
            "tags": []
          },
          "execution_count": 17
        }
      ]
    },
    {
      "cell_type": "code",
      "metadata": {
        "colab": {
          "base_uri": "https://localhost:8080/",
          "height": 265
        },
        "id": "-OWgrGaATbft",
        "outputId": "2175de3c-d898-4cb3-9c19-d855d8f988e0"
      },
      "source": [
        "look_back=100\n",
        "trainPredictPlot = np.empty_like(df1)\n",
        "trainPredictPlot[:, :] = np.nan\n",
        "trainPredictPlot[look_back:len(train_predict)+look_back, :] = train_predict\n",
        "# shift test predictions for plotting\n",
        "testPredictPlot = np.empty_like(df1)\n",
        "testPredictPlot[:, :] = np.nan\n",
        "testPredictPlot[len(train_predict)+(look_back*2)+1:len(df1)-1, :] = test_predict\n",
        "# plot baseline and predictions\n",
        "plt.plot(scaler.inverse_transform(df1))\n",
        "plt.plot(trainPredictPlot)\n",
        "plt.plot(testPredictPlot)\n",
        "plt.show()"
      ],
      "execution_count": 18,
      "outputs": [
        {
          "output_type": "display_data",
          "data": {
            "image/png": "[encoded data removed]",
            "text/plain": [
              "<Figure size 432x288 with 1 Axes>"
            ]
          },
          "metadata": {
            "tags": [],
            "needs_background": "light"
          }
        }
      ]
    },
    {
      "cell_type": "code",
      "metadata": {
        "colab": {
          "base_uri": "https://localhost:8080/"
        },
        "id": "OUadiS6tThaI",
        "outputId": "9e263499-4456-44b9-8295-fa907cbab6b9"
      },
      "source": [
        "len(test_data)"
      ],
      "execution_count": 19,
      "outputs": [
        {
          "output_type": "execute_result",
          "data": {
            "text/plain": [
              "440"
            ]
          },
          "metadata": {
            "tags": []
          },
          "execution_count": 19
        }
      ]
    },
    {
      "cell_type": "code",
      "metadata": {
        "id": "cDFl4N5yT1UN"
      },
      "source": [
        "x_input=test_data[341:].reshape(1,-1)\n",
        "x_input.shape\n",
        "temp_input=list(x_input)\n",
        "temp_input=temp_input[0].tolist()\n"
      ],
      "execution_count": 20,
      "outputs": []
    },
    {
      "cell_type": "code",
      "metadata": {
        "colab": {
          "base_uri": "https://localhost:8080/",
          "height": 236
        },
        "id": "fuA_5Oa4W8Rz",
        "outputId": "7ff31412-0493-4adc-e6f5-66be86f2a9f0"
      },
      "source": [
        "from numpy import array\n",
        "\n",
        "lst_output=[]\n",
        "n_steps=100\n",
        "i=0\n",
        "while(i<30):\n",
        "    \n",
        "    if(len(temp_input)>100):\n",
        "        #print(temp_input)\n",
        "        x_input=np.array(temp_input[1:])\n",
        "        print(\"{} day input {}\".format(i,x_input))\n",
        "        x_input=x_input.reshape(1,-1)\n",
        "        x_input = x_input.reshape((1, n_steps, 1))\n",
        "        #print(x_input)\n",
        "        yhat = model.predict(x_input, verbose=0)\n",
        "        print(\"{} day output {}\".format(i,yhat))\n",
        "        temp_input.extend(yhat[0].tolist())\n",
        "        temp_input=temp_input[1:]\n",
        "        #print(temp_input)\n",
        "        lst_output.extend(yhat.tolist())\n",
        "        i=i+1\n",
        "    else:\n",
        "        x_input = x_input.reshape((1, n_steps,1))\n",
        "        yhat = model.predict(x_input, verbose=0)\n",
        "        print(yhat[0])\n",
        "        temp_input.extend(yhat[0].tolist())\n",
        "        print(len(temp_input))\n",
        "        lst_output.extend(yhat.tolist())\n",
        "        i=i+1\n",
        "    \n",
        "\n",
        "print(lst_output)"
      ],
      "execution_count": 25,
      "outputs": [
        {
          "output_type": "error",
          "ename": "ValueError",
          "evalue": "ignored",
          "traceback": [
            "\u001b[0;31m---------------------------------------------------------------------------\u001b[0m",
            "\u001b[0;31mValueError\u001b[0m                                Traceback (most recent call last)",
            "\u001b[0;32m<ipython-input-25-9e2ca21a39b0>\u001b[0m in \u001b[0;36m<module>\u001b[0;34m()\u001b[0m\n\u001b[1;32m     21\u001b[0m         \u001b[0mi\u001b[0m\u001b[0;34m=\u001b[0m\u001b[0mi\u001b[0m\u001b[0;34m+\u001b[0m\u001b[0;36m1\u001b[0m\u001b[0;34m\u001b[0m\u001b[0;34m\u001b[0m\u001b[0m\n\u001b[1;32m     22\u001b[0m     \u001b[0;32melse\u001b[0m\u001b[0;34m:\u001b[0m\u001b[0;34m\u001b[0m\u001b[0;34m\u001b[0m\u001b[0m\n\u001b[0;32m---> 23\u001b[0;31m         \u001b[0mx_input\u001b[0m \u001b[0;34m=\u001b[0m \u001b[0mx_input\u001b[0m\u001b[0;34m.\u001b[0m\u001b[0mreshape\u001b[0m\u001b[0;34m(\u001b[0m\u001b[0;34m(\u001b[0m\u001b[0;36m2\u001b[0m\u001b[0;34m,\u001b[0m \u001b[0mn_steps\u001b[0m\u001b[0;34m,\u001b[0m\u001b[0;36m1\u001b[0m\u001b[0;34m)\u001b[0m\u001b[0;34m)\u001b[0m\u001b[0;34m\u001b[0m\u001b[0;34m\u001b[0m\u001b[0m\n\u001b[0m\u001b[1;32m     24\u001b[0m         \u001b[0myhat\u001b[0m \u001b[0;34m=\u001b[0m \u001b[0mmodel\u001b[0m\u001b[0;34m.\u001b[0m\u001b[0mpredict\u001b[0m\u001b[0;34m(\u001b[0m\u001b[0mx_input\u001b[0m\u001b[0;34m,\u001b[0m \u001b[0mverbose\u001b[0m\u001b[0;34m=\u001b[0m\u001b[0;36m0\u001b[0m\u001b[0;34m)\u001b[0m\u001b[0;34m\u001b[0m\u001b[0;34m\u001b[0m\u001b[0m\n\u001b[1;32m     25\u001b[0m         \u001b[0mprint\u001b[0m\u001b[0;34m(\u001b[0m\u001b[0myhat\u001b[0m\u001b[0;34m[\u001b[0m\u001b[0;36m0\u001b[0m\u001b[0;34m]\u001b[0m\u001b[0;34m)\u001b[0m\u001b[0;34m\u001b[0m\u001b[0;34m\u001b[0m\u001b[0m\n",
            "\u001b[0;31mValueError\u001b[0m: cannot reshape array of size 99 into shape (2,100,1)"
          ]
        }
      ]
    },
    {
      "cell_type": "code",
      "metadata": {
        "id": "MSXqnh5BXF1U"
      },
      "source": [
        "day_new=np.arange(101)\n",
        "day_pred=np.arange(101,131)"
      ],
      "execution_count": null,
      "outputs": []
    },
    {
      "cell_type": "code",
      "metadata": {
        "id": "DU3Wev7qXNgQ"
      },
      "source": [
        "\n",
        "plt.plot(day_new,scaler.inverse_transform(df1[1158:]))\n",
        "plt.plot(day_pred,scaler.inverse_transform(lst_output))"
      ],
      "execution_count": null,
      "outputs": []
    },
    {
      "cell_type": "code",
      "metadata": {
        "id": "BdyiCLb_XRzT"
      },
      "source": [
        "\n",
        "df3=df1.tolist()\n",
        "df3.extend(lst_output)\n",
        "plt.plot(df3[1200:])"
      ],
      "execution_count": null,
      "outputs": []
    },
    {
      "cell_type": "code",
      "metadata": {
        "id": "ANYm5d8eXVuV"
      },
      "source": [
        "df3=scaler.inverse_transform(df3).tolist()\n",
        "plt.plot(df3)"
      ],
      "execution_count": null,
      "outputs": []
    },
    {
      "cell_type": "code",
      "metadata": {
        "id": "ZnK9BvolXbt8"
      },
      "source": [
        ""
      ],
      "execution_count": null,
      "outputs": []
    }
  ]
}